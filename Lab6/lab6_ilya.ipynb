{
 "nbformat": 4,
 "nbformat_minor": 0,
 "metadata": {
  "colab": {
   "provenance": []
  },
  "kernelspec": {
   "name": "python3",
   "language": "python",
   "display_name": "Python 3 (ipykernel)"
  },
  "language_info": {
   "name": "python"
  }
 },
 "cells": [
  {
   "cell_type": "markdown",
   "source": [
    "# Шумоподавляющий автокодировщик\n",
    "\n",
    "Denoising autoencoder (DAE)\n",
    "\n",
    "Задание: создать модель для подавления шумов в медицинских изображениях.\n",
    "\n",
    "В этой работе мы повторим идею из статьи \"Medical image denoising using convolutional denoising autoencoders\"."
   ],
   "metadata": {
    "id": "vW6x35U5USVQ"
   }
  },
  {
   "cell_type": "code",
   "source": [
    "# код для варианта\n",
    "\n",
    "name = \"Корчагин Илья Вадимович\" # Впишите ваше ФИО\n",
    "\n",
    "def calculate_variant(name):\n",
    "    return sum(ord(char) for char in name) % 2 + 1\n",
    "\n",
    "print(f\"Ваш вариант - №{calculate_variant(name)}\")"
   ],
   "metadata": {
    "id": "8bbyt82J-N1m",
    "ExecuteTime": {
     "end_time": "2023-11-21T17:41:47.042740400Z",
     "start_time": "2023-11-21T17:41:46.911057600Z"
    }
   },
   "execution_count": 513,
   "outputs": [
    {
     "name": "stdout",
     "output_type": "stream",
     "text": [
      "Ваш вариант - №1\n"
     ]
    }
   ]
  },
  {
   "cell_type": "markdown",
   "source": [
    "## Варианты\n",
    "\n",
    "1. OrganSMNISВT\n",
    "1. ChestMNIST\n",
    "1. PneumoniaMNIST\n",
    "\n",
    "## Порядок выполнения\n",
    "\n",
    "1. Загрузить датасет по варианту;\n",
    "1. Провести предварительную обработку данных;\n",
    "1. Используя фреймворк PyTorch создать модель;\n",
    "1. Обучить модель;\n",
    "1. Попробовать подобрать гиперпараметры;\n",
    "1. Оценить результаты лучшей модели на тестовой выборке.\n",
    "\n",
    "## Источники\n",
    "\n",
    "1. [Medical image denoising using convolutional denoising autoencoders](https://arxiv.org/pdf/1608.04667.pdf)\n",
    "1. [Автоэнкодеры: типы архитектур и применение](https://neurohive.io/ru/osnovy-data-science/avtojenkoder-tipy-arhitektur-i-primenenie/)\n",
    "1. [Автокодировщик](https://neerc.ifmo.ru/wiki/index.php?title=%D0%90%D0%B2%D1%82%D0%BE%D0%BA%D0%BE%D0%B4%D0%B8%D1%80%D0%BE%D0%B2%D1%89%D0%B8%D0%BA)\n",
    "\n",
    "## Статьи из разбора\n",
    "\n",
    "1. [LLNet: A Deep Autoencoder approach to Natural Low-light Image Enhancement](https://arxiv.org/pdf/1511.03995.pdf)\n",
    "1. [Deep Learning on Image Denoising: An Overview](https://arxiv.org/pdf/1912.13171.pdf)\n",
    "1. [Boltzmann Machines and Denoising Autoencoders for Image Denoising](https://arxiv.org/pdf/1301.3468.pdf)\n",
    "1. [Denoising Vanilla Autoencoder for RGB and GS Images with Gaussian Noise](https://app.dimensions.ai/details/publication/pub.1165117438)"
   ],
   "metadata": {
    "id": "65zOCnPV-Usu"
   }
  },
  {
   "cell_type": "markdown",
   "source": [
    "## Импортирование модулей"
   ],
   "metadata": {
    "id": "AWtUeaA--vJa"
   }
  },
  {
   "cell_type": "code",
   "execution_count": 514,
   "metadata": {
    "id": "Pr9royZLlLXu",
    "ExecuteTime": {
     "end_time": "2023-11-21T17:41:47.155438100Z",
     "start_time": "2023-11-21T17:41:46.919035700Z"
    }
   },
   "outputs": [],
   "source": [
    "import numpy as np\n",
    "import torch\n",
    "import torch.nn as nn\n",
    "import torch.nn.functional as F\n",
    "import torchvision\n",
    "from torchvision.utils import save_image\n",
    "import torchvision.transforms as transforms\n",
    "from torch.utils.data import Dataset, DataLoader\n",
    "from torchvision.utils import make_grid\n",
    "import matplotlib.pyplot as plt\n",
    "\n",
    "%matplotlib inline"
   ]
  },
  {
   "cell_type": "markdown",
   "source": [
    "В этой работе можете попробовать задействовать GPU для ускорения вычислений. [How To Use GPU with PyTorch](https://wandb.ai/wandb/common-ml-errors/reports/How-To-Use-GPU-with-PyTorch---VmlldzozMzAxMDk)"
   ],
   "metadata": {
    "id": "eb-ePLUw--6V"
   }
  },
  {
   "cell_type": "code",
   "source": [
    "if torch.cuda.is_available():\n",
    "  device = torch.device('cuda')\n",
    "  print('Работаем на GPU')\n",
    "else:\n",
    "  device = torch.device('cpu')\n",
    "  print('Работаем на CPU')"
   ],
   "metadata": {
    "id": "ayOmJFjL-8uD",
    "ExecuteTime": {
     "end_time": "2023-11-21T17:41:47.210323300Z",
     "start_time": "2023-11-21T17:41:46.934031600Z"
    }
   },
   "execution_count": 515,
   "outputs": [
    {
     "name": "stdout",
     "output_type": "stream",
     "text": [
      "Работаем на CPU\n"
     ]
    }
   ]
  },
  {
   "cell_type": "markdown",
   "source": [
    "Изначально тензоры создаются на CPU, и с помощью метода `.to(device)` на тензорах и моделях вы можете переносить их с устройства на устройство. Если в результате вычислений создаются новые тензоры, то они уже создаются на устройствах, на которых производились эти вычисления."
   ],
   "metadata": {
    "id": "qiGouVwmGc5D"
   }
  },
  {
   "cell_type": "markdown",
   "source": [
    "## Загрузка данных\n",
    "\n",
    "Ссылка на подборку датасетов - https://medmnist.com/. По этой ссылке вы найдете описание самих датасетов, а также инструкцию по установке библиотеки и созданию объекта DataClass и далее DataLoader.\n",
    "\n",
    "[Официальный пример](https://github.com/MedMNIST/MedMNIST/blob/main/examples/getting_started.ipynb) как пользоваться датасетом и как загрузить его данные от самих разработчиков."
   ],
   "metadata": {
    "id": "kT4QchL2HMgu"
   }
  },
  {
   "cell_type": "code",
   "source": [
    "#\n",
    "# Ваш код для DataSet и DataLoader\n",
    "#\n",
    "import medmnist\n",
    "from medmnist import INFO, Evaluator\n",
    "\n",
    "data_flag = 'chestmnist'\n",
    "# data_flag = 'breastmnist'\n",
    "download = True\n",
    "\n",
    "NUM_EPOCHS = 3\n",
    "BATCH_SIZE = 128\n",
    "lr = 0.001\n",
    "\n",
    "info = INFO[data_flag]\n",
    "task = info['task']\n",
    "n_channels = info['n_channels']\n",
    "n_classes = len(info['label'])\n",
    "\n",
    "DataClass = getattr(medmnist, info['python_class'])\n",
    "\n",
    "# preprocessing\n",
    "data_transform = transforms.Compose([\n",
    "    transforms.ToTensor(),\n",
    "    transforms.Normalize(mean=[.5], std=[.5])\n",
    "])\n",
    "\n",
    "# load the data\n",
    "train_dataset = DataClass(split='train', transform=data_transform, download=download)\n",
    "test_dataset = DataClass(split='test', transform=data_transform, download=download)\n",
    "\n",
    "pil_dataset = DataClass(split='train', download=download)\n",
    "\n",
    "# encapsulate data into dataloader form\n",
    "train_loader = DataLoader(dataset=train_dataset, batch_size=BATCH_SIZE, shuffle=True)\n",
    "train_loader_at_eval = DataLoader(dataset=train_dataset, batch_size=BATCH_SIZE, shuffle=False)\n",
    "test_loader = DataLoader(dataset=test_dataset, batch_size=BATCH_SIZE, shuffle=False)\n"
   ],
   "metadata": {
    "id": "FIH-iTg4HM2f",
    "ExecuteTime": {
     "end_time": "2023-11-21T17:41:48.135484600Z",
     "start_time": "2023-11-21T17:41:46.949989500Z"
    }
   },
   "execution_count": 516,
   "outputs": [
    {
     "name": "stdout",
     "output_type": "stream",
     "text": [
      "Using downloaded and verified file: C:\\Users\\User.DESKTOP-J18NSGP\\.medmnist\\chestmnist.npz\n",
      "Using downloaded and verified file: C:\\Users\\User.DESKTOP-J18NSGP\\.medmnist\\chestmnist.npz\n",
      "Using downloaded and verified file: C:\\Users\\User.DESKTOP-J18NSGP\\.medmnist\\chestmnist.npz\n"
     ]
    }
   ]
  },
  {
   "cell_type": "markdown",
   "source": [
    "**Какие преобразования вы применили при создании DataSet и почему?**\n",
    "\n",
    "Ваш ответ: перевели данные в тензор для обработки pytorch'ем и нормализовали этот тензор"
   ],
   "metadata": {
    "id": "TnHvLDY_Soml"
   }
  },
  {
   "cell_type": "markdown",
   "source": [
    "## Создание модели\n",
    "\n",
    "Автокодировщик (автоэнкодер) состоит из двух частей и вывод первой части является входом второй части. Строение модели вы можете посмотреть в статье в описании и воспроизвести ее. Создание слоев свертки вам знакомо с предыдущей работы, а для декодера вам потребуется двумерная транспонированная свертка (ConvTranspose2d)."
   ],
   "metadata": {
    "id": "anYEXiGqLom6"
   }
  },
  {
   "cell_type": "code",
   "execution_count": 517,
   "outputs": [],
   "source": [
    "hidden_size = 500\n",
    "# кодировщик\n",
    "class Encoder(nn.Module):\n",
    "  def __init__(self):\n",
    "    super().__init__()\n",
    "    self.conv = nn.Sequential(\n",
    "      nn.Conv2d(1, 128, 3, padding=1),\n",
    "      nn.ReLU(),\n",
    "      #nn.MaxPool2d(2, 2),\n",
    "      #nn.Conv2d(128, 32, 3),\n",
    "      #nn.ReLU(),\n",
    "      #nn.MaxPool2d(2, 2),\n",
    "      nn.Conv2d(128, 8, 3, padding=1),\n",
    "      nn.ReLU(),\n",
    "      nn.MaxPool2d(2, 2)\n",
    "        #\n",
    "        # ваш код\n",
    "        #\n",
    "    )\n",
    "\n",
    "  def forward(self, x):\n",
    "    output = self.conv(x)\n",
    "    return output  # здесь на выходе может быть произвольный тензор\n",
    "\n",
    "\n",
    "#  декодер\n",
    "class Decoder(nn.Module):\n",
    "  def __init__(self):\n",
    "    super().__init__()\n",
    "    self.conv = nn.Sequential(\n",
    "      nn.ConvTranspose2d(8, 128, 2, stride=2),\n",
    "      nn.ReLU(),\n",
    "      #nn.MaxUnpool2d(2, 2),\n",
    "      #nn.Conv2d(32, 128, 3),\n",
    "      #nn.ReLU(),\n",
    "      #nn.MaxPool2d(2, 2),\n",
    "      nn.ConvTranspose2d(128, 1, 2, stride=2),\n",
    "      nn.ReLU(),\n",
    "      nn.MaxPool2d(2, 2)\n",
    "        #\n",
    "        # ваш код\n",
    "        #\n",
    "    )\n",
    "\n",
    "  def forward(self, x):\n",
    "    output = self.conv(x)\n",
    "    # Помните, что здесь на входе должен приниматься тензор размерностью как у кодировщика на выходе\n",
    "    #\n",
    "    # ваш код\n",
    "    #\n",
    "    return output  # На выходе должен быть тензор размерностью как исходное изображение."
   ],
   "metadata": {
    "collapsed": false,
    "ExecuteTime": {
     "end_time": "2023-11-21T17:41:48.152439300Z",
     "start_time": "2023-11-21T17:41:48.140471Z"
    }
   }
  },
  {
   "cell_type": "markdown",
   "source": [
    "**В чем разница между сверткой и транспонированной сверткой?**\n",
    "\n",
    "Ваш ответ: Транспонированная свертка, в отличие от обычной свертки, не уменьшает выходное изображение, а наоборот увеличивает его"
   ],
   "metadata": {
    "id": "J1D2jcsnSycO"
   }
  },
  {
   "cell_type": "markdown",
   "source": [
    "Далее кодировщик и декодировщик мы объединяем в автокодировщик."
   ],
   "metadata": {
    "id": "oQzghVCAN972"
   }
  },
  {
   "cell_type": "code",
   "source": [
    "class Autoencoder(nn.Module):\n",
    "  def __init__(self, encoder, decoder):\n",
    "    super().__init__()\n",
    "    self.encoder = encoder\n",
    "    # self.encoder.to(device)\n",
    "\n",
    "    self.decoder = decoder\n",
    "    # self.decoder.to(device)\n",
    "\n",
    "  def forward(self, x):\n",
    "    encoded = self.encoder(x)\n",
    "    decoded = self.decoder(encoded)\n",
    "    return decoded"
   ],
   "metadata": {
    "id": "RGB5oYVUN9OH",
    "ExecuteTime": {
     "end_time": "2023-11-21T17:41:48.190339400Z",
     "start_time": "2023-11-21T17:41:48.151441800Z"
    }
   },
   "execution_count": 518,
   "outputs": []
  },
  {
   "cell_type": "markdown",
   "source": [
    "## Обучение\n",
    "\n",
    "В качестве оптимизатора можете использовать SGD или Adam или в целом попробовать другие оптимизаторы, что предлагает pytorch.\n",
    "\n",
    "В качестве функции потерь воспользуйтесь MSE (MSELoss) или другой функцией, которая подходит для сравнения изображений."
   ],
   "metadata": {
    "id": "ZvqPja4xOwH7"
   }
  },
  {
   "cell_type": "code",
   "execution_count": 519,
   "outputs": [],
   "source": [
    "def save_decoded_image(img, name):\n",
    "    img = img.view(img.size(0), 1, 28, 28)\n",
    "    save_image(img, name + '.png')"
   ],
   "metadata": {
    "collapsed": false,
    "ExecuteTime": {
     "end_time": "2023-11-21T17:41:48.191336500Z",
     "start_time": "2023-11-21T17:41:48.168397300Z"
    }
   }
  },
  {
   "cell_type": "code",
   "source": [
    "log_dict = {\n",
    "    'training_loss_per_batch': [],\n",
    "    'validation_loss_per_batch': [],\n",
    "}\n",
    "origin_images = []\n",
    "noise_images = []\n",
    "\n",
    "epochs = 5 #10\n",
    "encoder = Encoder()\n",
    "decoder = Decoder()\n",
    "model = Autoencoder(encoder, decoder)\n",
    "\n",
    "optimizer = torch.optim.SGD(model.parameters(), lr)\n",
    "loss_fn = nn.MSELoss()\n",
    "#dropout = nn.Dropout()\n",
    "for epoch in range(epochs):\n",
    "  i = 0\n",
    "  print(f'Эпоха {epoch+1}/{epochs}')\n",
    "  train_losses = []\n",
    "\n",
    "  print('обучение...')\n",
    "  model.train()\n",
    "  for images in train_loader:\n",
    "    # Шаги для обучения:\n",
    "    # 1. загрузить изображения\n",
    "    # 2. добавить гауссовский шум шум (torch.normal() и clip() / clamp())\n",
    "    # 3. реконструировать изображение (прямой проход через энкодер и декодер)\n",
    "    # 4. рассчитать `loss`\n",
    "    # 5. выполнить `loss.backward ()` для вычисления градиентов функции потери относительно параметров модели\n",
    "    # 6. выполнить шаг оптимизации `optimizer.step ()`\n",
    "    # 7. занулить градиенты\n",
    "\n",
    "    #\n",
    "    # ваш код\n",
    "    #\n",
    "    i+=1\n",
    "    image, y = images\n",
    "    #image = image.view(image.size(0), -1)\n",
    "    #noise = dropout(torch.ones(image.shape))\n",
    "    img_noise = image + torch.normal(image)\n",
    "    # clip to make the values fall between 0 and 1\n",
    "    #print(img_noise)\n",
    "    img_noise = torch.clip(img_noise, 0., 1.)\n",
    "    #print(img_noise)\n",
    "    # print(image)\n",
    "    # noise = torch.normal(image)\n",
    "    # print (noise)\n",
    "    # img_noise = image.clamp(image)\n",
    "    # print(img_noise)\n",
    "    # img_noise = img_noise.clip(image)\n",
    "    # print(img_noise)\n",
    "    res = model(img_noise)\n",
    "    loss = loss_fn(res, img_noise)\n",
    "    \n",
    "    optimizer.zero_grad()\n",
    "    loss.backward()\n",
    "    optimizer.step()\n",
    "    \n",
    "    log_dict['training_loss_per_batch'].append(loss.item())\n",
    "    save_decoded_image(img_noise.cpu().data, name='noisy{}'.format(epoch))\n",
    "    \n",
    "    save_decoded_image(res.cpu().data, name='denoised{}'.format(epoch))\n",
    "    if i % 100 == 0:\n",
    "      origin_images.append(image)\n",
    "      noise_images.append(img_noise)\n",
    "      \n",
    "\n",
    "  # Валидация\n",
    "  print('валидация...')\n",
    "  model.eval()\n",
    "  for val_images in train_loader_at_eval:\n",
    "    with torch.no_grad():\n",
    "      #\n",
    "      # ваш код\n",
    "      #\n",
    "      imag, y = val_images\n",
    "      #imag = imag.view(imag.size(0), -1)\n",
    "      img_noisy = imag + torch.normal(imag, 0.5)\n",
    "      img_noisy = np.clip(img_noisy, 0., 1.)\n",
    "      #img_noisy = img_noisy.to(device)\n",
    "      test_res = model(img_noisy)\n",
    "      val_loss = loss_fn(test_res, img_noisy)\n",
    "\n",
    "      log_dict['validation_loss_per_batch'].append(val_loss.item())\n",
    "print('Обучение завершено')"
   ],
   "metadata": {
    "id": "hC-D2FjGOyMK",
    "ExecuteTime": {
     "end_time": "2023-11-21T18:10:38.614009600Z",
     "start_time": "2023-11-21T17:41:48.188345Z"
    }
   },
   "execution_count": 520,
   "outputs": [
    {
     "name": "stdout",
     "output_type": "stream",
     "text": [
      "Эпоха 1/5\n",
      "обучение...\n",
      "валидация...\n",
      "Эпоха 2/5\n",
      "обучение...\n",
      "валидация...\n",
      "Эпоха 3/5\n",
      "обучение...\n",
      "валидация...\n",
      "Эпоха 4/5\n",
      "обучение...\n",
      "валидация...\n",
      "Эпоха 5/5\n",
      "обучение...\n",
      "валидация...\n",
      "Обучение завершено\n"
     ]
    }
   ]
  },
  {
   "cell_type": "markdown",
   "source": [
    "**Что делает clip() или clamp() и почему его требуется использовать после добавления шума?**\n",
    "\n",
    "Ваш ответ: clip() обрезает значения вне интервала до краев интервала"
   ],
   "metadata": {
    "id": "qQ-5Lu-PSFZS"
   }
  },
  {
   "cell_type": "markdown",
   "source": [
    "## Контроль результатов и экспериментов\n",
    "\n",
    "Вы всегда должны следить за тем как идет обучение и как меняются метрики в его процессе. В этой работе вы можете воспользоваться [TensorBoard](https://pytorch.org/docs/stable/tensorboard.html) или создать переменную со списком и в него складывать значения с каждых n итераций и с помощью matplotlib строить графики.\n",
    "\n",
    "Далее приведены части кода, которые позволят в Google Colab воспользоваться TensorBoard для PyTorch."
   ],
   "metadata": {
    "id": "_xowkG4-IEje"
   }
  },
  {
   "cell_type": "code",
   "source": [
    "\n",
    "\n",
    "from torch.utils.tensorboard import SummaryWriter # Импорт модуля\n",
    "#%load_ext tensorboard  # Загружает один раз расширение для ноутбука. Эту команду можно перенести в самое начало.\n",
    "\n",
    "writer = SummaryWriter()  # создание экземпляра класса, который отвечает за ведение логов.\n",
    "\n",
    "for n_iter in range(100): # в цикле обучения вы используете метод add_scalar или другие для добавления записи в логи.\n",
    "    writer.add_scalar('Loss/train', np.random.random(), n_iter)  # пример вызова самого метода.\n",
    "#%tensorboard --logdir runs # Запускает сам tensorboard в выводе текущей ячейки. Лучше перенести в самый конец."
   ],
   "metadata": {
    "id": "JjTP0E8xIE8A",
    "ExecuteTime": {
     "end_time": "2023-11-21T18:10:38.839644800Z",
     "start_time": "2023-11-21T18:10:38.606031100Z"
    }
   },
   "execution_count": 521,
   "outputs": []
  },
  {
   "cell_type": "code",
   "execution_count": 522,
   "outputs": [
    {
     "data": {
      "text/plain": "<Figure size 640x480 with 2 Axes>",
      "image/png": "[encoded data removed]"
     },
     "metadata": {},
     "output_type": "display_data"
    }
   ],
   "source": [
    "_, axis = plt.subplots(1, 2)\n",
    "#plt.style.use('fivethirtyeight')\n",
    "axis[0].set_title('Training loss')\n",
    "axis[0].plot(log_dict['training_loss_per_batch'])\n",
    "axis[0].set_xlabel('Iterations')\n",
    "axis[0].set_ylabel('Loss')\n",
    "axis[1].set_xlabel('Iterations')\n",
    "\n",
    "axis[1].set_title('Validation loss')\n",
    "axis[1].plot(log_dict['validation_loss_per_batch'])\n",
    "plt.show()"
   ],
   "metadata": {
    "collapsed": false,
    "ExecuteTime": {
     "end_time": "2023-11-21T18:10:39.045014400Z",
     "start_time": "2023-11-21T18:10:38.839644800Z"
    }
   }
  },
  {
   "cell_type": "markdown",
   "source": [
    "**По графикам потерь и метрике сделайте вывод была ли модель обучена, недообучена или переобучена.**\n",
    "\n",
    "Ваш ответ: Модель была недообучена\n",
    "\n",
    "**Если модель недообучена или переобучена, то что могло послужить причинами этого?**\n",
    "\n",
    "Ваш ответ: Количество итераций"
   ],
   "metadata": {
    "id": "4SVFv8hEUJ4n"
   }
  },
  {
   "cell_type": "markdown",
   "source": [
    "## Результат работы модели\n",
    "\n",
    "Выведите итоговую метрику для тестовых изображений. И отобразите несколько примеров работы модели: исходное изображение и с убранным шумом.\n",
    "\n",
    "Пример для цветных изображений.\n",
    "\n",
    "```python\n",
    "test_images = test_images.to(device)\n",
    "with torch.no_grad():\n",
    "  reconstructed_imgs = network(test_images)\n",
    "reconstructed_imgs = reconstructed_imgs.cpu()\n",
    "test_images = test_images.cpu()\n",
    "imgs = torch.stack([test_images.view(-1, 3, 32, 32), reconstructed_imgs], dim=1).flatten(0,1)\n",
    "grid = make_grid(imgs, nrow=10, normalize=True, padding=1)\n",
    "grid = grid.permute(1, 2, 0)\n",
    "plt.figure(dpi=170)\n",
    "plt.title('Original/Reconstructed')\n",
    "plt.imshow(grid)\n",
    "log_dict['visualizations'].append(grid)\n",
    "plt.axis('off')\n",
    "plt.show()\n",
    "```"
   ],
   "metadata": {
    "id": "ACjHbd2NKokt"
   }
  },
  {
   "cell_type": "code",
   "source": [
    "from matplotlib import image as mpimg\n",
    "\n",
    "\n",
    "#\n",
    "# Ваш код\n",
    "#\n",
    "def imshow(img):\n",
    "    plt.imshow(img)\n",
    "    plt.show()\n",
    "train_dataset.montage(1)\n",
    "plt.figure(figsize=(20,20))\n",
    "img = mpimg.imread(\"denoised4.png\")\n",
    "img1 = mpimg.imread(\"noisy4.png\")\n",
    "plt.subplot(1,2,1)\n",
    "plt.imshow(img)\n",
    "plt.title('Denoising Image')\n",
    "plt.axis('off')\n",
    "\n",
    "plt.subplot(1,2,2)\n",
    "plt.imshow(img1)\n",
    "plt.title('Noisy Image')\n",
    "plt.axis('off')\n",
    "plt.show()"
   ],
   "metadata": {
    "id": "z185pkhyLHj4",
    "ExecuteTime": {
     "end_time": "2023-11-21T18:10:39.157741800Z",
     "start_time": "2023-11-21T18:10:39.047041Z"
    }
   },
   "execution_count": 523,
   "outputs": [
    {
     "data": {
      "text/plain": "<Figure size 2000x2000 with 2 Axes>",
      "image/png": "[encoded data removed]"
     },
     "metadata": {},
     "output_type": "display_data"
    }
   ]
  },
  {
   "cell_type": "markdown",
   "source": [
    "## Контрольные вопросы\n",
    "\n",
    "**В чем особенность архитектуры автокодировщиков?**\n",
    "\n",
    "Ваш ответ: Количество нейронов на входе и на выходе совпадает из-за декодера и энкодера в составе автокодировщика\n",
    "\n",
    "![img](https://neurohive.io/wp-content/uploads/2018/09/avtojenkoder-e1536675599885.png)\n",
    "\n",
    "**Какие метрики можно использовать для оценки качества изображений?**\n",
    "\n",
    "Ваш ответ: субъективное, PSNR (соотношение пиковый сигнал / шум), оценка резкости \n"
   ],
   "metadata": {
    "id": "qM9Nf49VLJmT"
   }
  }
 ]
}

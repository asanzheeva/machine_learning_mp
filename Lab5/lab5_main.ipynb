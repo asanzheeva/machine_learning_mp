{
 "cells": [
  {
   "cell_type": "code",
   "execution_count": 109,
   "outputs": [],
   "source": [
    "import torch\n",
    "from torch import nn\n",
    "import torch.nn.functional as F\n",
    "import numpy as np"
   ],
   "metadata": {
    "collapsed": false,
    "ExecuteTime": {
     "end_time": "2023-11-19T14:46:36.832830200Z",
     "start_time": "2023-11-19T14:46:36.816874500Z"
    }
   },
   "id": "61ac5a836e2fbfff"
  },
  {
   "cell_type": "code",
   "execution_count": 110,
   "id": "initial_id",
   "metadata": {
    "collapsed": true,
    "ExecuteTime": {
     "end_time": "2023-11-19T14:46:36.858760600Z",
     "start_time": "2023-11-19T14:46:36.839812Z"
    }
   },
   "outputs": [],
   "source": [
    "def detach_from_history(h):\n",
    "    if type(h) == torch.Tensor:\n",
    "        return h.detach()\n",
    "\n",
    "    return tuple(detach_from_history(v) for v in h)\n",
    "\n",
    "\n",
    "class CharRnn(nn.Module):\n",
    "    def __init__(self, vocab_size, n_fac, n_hidden, batch_size):\n",
    "        super().__init__()\n",
    "        self.e = nn.Embedding(vocab_size, n_fac)\n",
    "        self.rnn = nn.RNN(n_fac, n_hidden)\n",
    "        self.l_out = nn.Linear(n_hidden, vocab_size)\n",
    "        self.n_hidden = n_hidden\n",
    "        self.init_hidden_state(batch_size)\n",
    "\n",
    "    def init_hidden_state(self, batch_size):\n",
    "        self.h = torch.zeros(1, batch_size, self.n_hidden)\n",
    "\n",
    "    def forward(self, inp):\n",
    "        inp = self.e(inp)\n",
    "        b_size = inp[0].size(0)\n",
    "        if self.h[0].size(1) != b_size:\n",
    "            self.init_hidden_state(b_size)\n",
    "\n",
    "        outp, h = self.rnn(inp, self.h)\n",
    "        self.h = detach_from_history(h)\n",
    "\n",
    "        return F.log_softmax(self.l_out(outp[-1]), dim=-1)"
   ]
  },
  {
   "cell_type": "code",
   "execution_count": 111,
   "outputs": [],
   "source": [
    "def generateNextChar(charNet, phraze):\n",
    "    idxs = np.empty((1, seq_size))\n",
    "    idxs[0] = np.array([char2int[c] for c in phraze])\n",
    "\n",
    "    res = charNet(torch.LongTensor(idxs).transpose(0, 1))\n",
    "    _, t_idxs = torch.max(res, dim=1)\n",
    "\n",
    "    return int2char[t_idxs.detach().cpu().numpy()[0]]\n",
    "\n",
    "\n",
    "def generateText(charNet, phraze, numChars):\n",
    "    cText = phraze\n",
    "    for i in range(0, numChars):\n",
    "        cText += generateNextChar(charNet, cText[i:])\n",
    "\n",
    "    return cText"
   ],
   "metadata": {
    "collapsed": false,
    "ExecuteTime": {
     "end_time": "2023-11-19T14:46:36.868733900Z",
     "start_time": "2023-11-19T14:46:36.847791Z"
    }
   },
   "id": "f8ae6dfb27262109"
  },
  {
   "cell_type": "code",
   "execution_count": 112,
   "outputs": [
    {
     "name": "stdout",
     "output_type": "stream",
     "text": [
      "(100133, 32)\n",
      "(100133,)\n",
      "Epoch 1, loss 2.363274574279785\n",
      "Epoch 2, loss 2.219494342803955\n",
      "Epoch 3, loss 2.126389265060425\n",
      "Epoch 4, loss 2.0525288581848145\n",
      "Epoch 5, loss 1.9898604154586792\n",
      "Epoch 6, loss 1.9320149421691895\n",
      "Epoch 7, loss 1.8864898681640625\n",
      "Epoch 8, loss 1.8453539609909058\n",
      "Epoch 9, loss 1.8085178136825562\n",
      "Epoch 10, loss 1.7726221084594727\n",
      "Epoch 11, loss 1.7341296672821045\n",
      "Epoch 12, loss 1.6955574750900269\n",
      "Epoch 13, loss 1.657349705696106\n",
      "Epoch 14, loss 1.6244044303894043\n",
      "Epoch 15, loss 1.6008937358856201\n",
      "Epoch 16, loss 1.5778106451034546\n",
      "Epoch 17, loss 1.5522607564926147\n",
      "Epoch 18, loss 1.5301302671432495\n",
      "Epoch 19, loss 1.5035696029663086\n",
      "Epoch 20, loss 1.480438470840454\n",
      "Epoch 21, loss 1.4585514068603516\n",
      "Epoch 22, loss 1.4656882286071777\n",
      "Epoch 23, loss 1.4725834131240845\n",
      "Epoch 24, loss 1.4323713779449463\n",
      "Epoch 25, loss 1.4171489477157593\n",
      "Epoch 26, loss 1.4153741598129272\n",
      "Epoch 27, loss 1.450045108795166\n",
      "Epoch 28, loss 1.4422481060028076\n",
      "Epoch 29, loss 1.4230618476867676\n",
      "Epoch 30, loss 1.4070173501968384\n",
      "Epoch 31, loss 1.3742835521697998\n",
      "Epoch 32, loss 1.3781098127365112\n",
      "Epoch 33, loss 1.338090419769287\n",
      "Epoch 34, loss 1.3196605443954468\n",
      "Epoch 35, loss 1.3344708681106567\n",
      "Epoch 36, loss 1.3277500867843628\n",
      "Epoch 37, loss 1.3146002292633057\n",
      "Epoch 38, loss 1.3326404094696045\n",
      "Epoch 39, loss 1.3235762119293213\n",
      "Epoch 40, loss 1.3459264039993286\n",
      "Epoch 41, loss 1.3262747526168823\n",
      "Epoch 42, loss 1.3376189470291138\n",
      "Epoch 43, loss 1.347143292427063\n",
      "Epoch 44, loss 1.3038290739059448\n",
      "Epoch 45, loss 1.3261349201202393\n",
      "Epoch 46, loss 1.2839304208755493\n",
      "Epoch 47, loss 1.297473430633545\n",
      "Epoch 48, loss 1.3243969678878784\n",
      "Epoch 49, loss 1.3138744831085205\n",
      "Epoch 50, loss 1.2952299118041992\n",
      "Epoch 51, loss 1.311478614807129\n",
      "Epoch 52, loss 1.368309736251831\n",
      "Epoch 53, loss 1.3345009088516235\n",
      "Epoch 54, loss 1.3333724737167358\n",
      "Epoch 55, loss 1.3289967775344849\n",
      "Epoch 56, loss 1.3199632167816162\n",
      "Epoch 57, loss 1.3189810514450073\n",
      "Epoch 58, loss 1.3033151626586914\n",
      "Epoch 59, loss 1.3093502521514893\n",
      "Epoch 60, loss 1.2692763805389404\n",
      "Сельцо Овечьи Воды. 20 марта 18. => Сельцо Овечьи Воды. 20 марта 18.. Не своих достоинстве за ним<... Старики Ожогины к своей женител на свою жизнь, в оба встал и потерял себя с жизни тогд\n"
     ]
    }
   ],
   "source": [
    "text = \"\"\n",
    "with open(\"dairy.txt\", \"r\", encoding=\"utf-8\") as file:\n",
    "    text = file.read().replace(\"\\n\", \" \")\n",
    "\n",
    "chars = sorted(list(set(text)))\n",
    "int2char = dict(enumerate(chars))\n",
    "char2int = {char: ind for ind, char in int2char.items()}\n",
    "\n",
    "idx = [char2int[c] for c in text]\n",
    "\n",
    "epochs = 60\n",
    "seq_size = 32\n",
    "hidden_size = 256\n",
    "batch_size = 300\n",
    "\n",
    "net = CharRnn(len(char2int), seq_size, hidden_size, batch_size)\n",
    "lr = 1e-3\n",
    "criterion = nn.CrossEntropyLoss()\n",
    "optimizer = torch.optim.Adam(net.parameters(), lr=lr)\n",
    "\n",
    "# PREPARE DATA\n",
    "# overlapping sets of characters, predict 1 character\n",
    "in_text = np.array(\n",
    "    [[idx[j + i] for i in range(seq_size)] for j in range(len(idx) - seq_size - 1)]\n",
    ")\n",
    "out_text = np.array([idx[j + seq_size] for j in range(len(idx) - seq_size - 1)])\n",
    "\n",
    "print(in_text.shape)\n",
    "print(out_text.shape)\n",
    "\n",
    "# TRAIN\n",
    "for e in range(0, epochs):\n",
    "    loss = 0\n",
    "    for b in range(0, in_text.shape[0] // batch_size):\n",
    "        input_idxs = (\n",
    "            torch.LongTensor(in_text[b * batch_size : (b + 1) * batch_size, :seq_size])\n",
    "            .transpose(0, 1)\n",
    "        )\n",
    "        target_idxs = (\n",
    "            torch.LongTensor(out_text[b * batch_size : (b + 1) * batch_size])\n",
    "            .squeeze()\n",
    "        )\n",
    "\n",
    "        res = net(input_idxs)\n",
    "        loss = criterion(res, target_idxs)\n",
    "        optimizer.zero_grad()\n",
    "        loss.backward()\n",
    "        optimizer.step()\n",
    "\n",
    "    print(\"Epoch {}, loss {}\".format(e + 1, loss.item()))\n",
    "\n",
    "# GENERATE\n",
    "print(text[:seq_size], \"=>\", generateText(net, text[:seq_size], 120))\n"
   ],
   "metadata": {
    "collapsed": false,
    "ExecuteTime": {
     "end_time": "2023-11-19T14:59:57.973840800Z",
     "start_time": "2023-11-19T14:46:36.868733900Z"
    }
   },
   "id": "400331a4fcfd6145"
  },
  {
   "cell_type": "code",
   "execution_count": 113,
   "outputs": [
    {
     "name": "stdout",
     "output_type": "stream",
     "text": [
      "Макар отправляется в Ногинск и т => Макар отправляется в Ногинск и только словно князь, как бы то, что я старика, помнится, я даже не произнести меня отвечал я, не отвечал на меня во мне в то все-таки в отвечал я, не отвеча\n"
     ]
    }
   ],
   "source": [
    "print(\"Макар отправляется в Ногинск и т\", \"=>\", generateText(net, \"Макар отправляется в Ногинск и т\", 155))"
   ],
   "metadata": {
    "collapsed": false,
    "ExecuteTime": {
     "end_time": "2023-11-19T14:59:58.192257300Z",
     "start_time": "2023-11-19T14:59:57.977830Z"
    }
   },
   "id": "7b8414d69d68905f"
  },
  {
   "cell_type": "code",
   "execution_count": 113,
   "outputs": [],
   "source": [],
   "metadata": {
    "collapsed": false,
    "ExecuteTime": {
     "end_time": "2023-11-19T14:59:58.236139500Z",
     "start_time": "2023-11-19T14:59:58.193254400Z"
    }
   },
   "id": "2c87904b8b5f3aad"
  }
 ],
 "metadata": {
  "kernelspec": {
   "display_name": "Python 3",
   "language": "python",
   "name": "python3"
  },
  "language_info": {
   "codemirror_mode": {
    "name": "ipython",
    "version": 2
   },
   "file_extension": ".py",
   "mimetype": "text/x-python",
   "name": "python",
   "nbconvert_exporter": "python",
   "pygments_lexer": "ipython2",
   "version": "2.7.6"
  }
 },
 "nbformat": 4,
 "nbformat_minor": 5
}

{
 "cells": [
  {
   "cell_type": "code",
   "execution_count": 16,
   "id": "61ac5a836e2fbfff",
   "metadata": {
    "ExecuteTime": {
     "end_time": "2023-11-19T14:46:36.832830200Z",
     "start_time": "2023-11-19T14:46:36.816874500Z"
    },
    "collapsed": false
   },
   "outputs": [],
   "source": [
    "import torch\n",
    "from torch import nn\n",
    "import torch.nn.functional as F\n",
    "import numpy as np"
   ]
  },
  {
   "cell_type": "code",
   "execution_count": 17,
   "id": "initial_id",
   "metadata": {
    "ExecuteTime": {
     "end_time": "2023-11-19T14:46:36.858760600Z",
     "start_time": "2023-11-19T14:46:36.839812Z"
    },
    "collapsed": true
   },
   "outputs": [],
   "source": [
    "def detach_from_history(h): \n",
    "    if type(h) == torch.Tensor:\n",
    "        return h.detach()\n",
    "\n",
    "    return tuple(detach_from_history(v) for v in h)\n",
    "\n",
    "\n",
    "class CharRnn(nn.Module):# создаем архитектуру нейронки\n",
    "    def __init__(self, vocab_size, n_fac, n_hidden, batch_size):\n",
    "        super().__init__()\n",
    "        self.e = nn.Embedding(vocab_size, n_fac) # словарь с буквами\n",
    "        self.rnn = nn.RNN(n_fac, n_hidden)\n",
    "        self.l_out = nn.Linear(n_hidden, vocab_size)\n",
    "        self.n_hidden = n_hidden\n",
    "        self.init_hidden_state(batch_size)\n",
    "\n",
    "    def init_hidden_state(self, batch_size):\n",
    "        self.h = torch.zeros(1, batch_size, self.n_hidden)\n",
    "\n",
    "    def forward(self, inp):\n",
    "        inp = self.e(inp)\n",
    "        b_size = inp[0].size(0)\n",
    "        if self.h[0].size(1) != b_size:\n",
    "            self.init_hidden_state(b_size)\n",
    "\n",
    "        outp, h = self.rnn(inp, self.h)\n",
    "        self.h = detach_from_history(h)\n",
    "\n",
    "        return F.log_softmax(self.l_out(outp[-1]), dim=-1)"
   ]
  },
  {
   "cell_type": "code",
   "execution_count": 18,
   "id": "f8ae6dfb27262109",
   "metadata": {
    "ExecuteTime": {
     "end_time": "2023-11-19T14:46:36.868733900Z",
     "start_time": "2023-11-19T14:46:36.847791Z"
    },
    "collapsed": false
   },
   "outputs": [],
   "source": [
    "def generateNextChar(charNet, phraze): # получаем символы\n",
    "    idxs = np.empty((1, seq_size))\n",
    "    idxs[0] = np.array([char2int[c] for c in phraze])\n",
    "\n",
    "    res = charNet(torch.LongTensor(idxs).transpose(0, 1))\n",
    "    _, t_idxs = torch.max(res, dim=1)\n",
    "\n",
    "    return int2char[t_idxs.detach().cpu().numpy()[0]]\n",
    "\n",
    "\n",
    "def generateText(charNet, phraze, numChars): # генерируем текст\n",
    "    cText = phraze\n",
    "    for i in range(0, numChars):\n",
    "        cText += generateNextChar(charNet, cText[i:])\n",
    "\n",
    "    return cText"
   ]
  },
  {
   "cell_type": "code",
   "execution_count": 19,
   "id": "400331a4fcfd6145",
   "metadata": {
    "ExecuteTime": {
     "end_time": "2023-11-19T14:59:57.973840800Z",
     "start_time": "2023-11-19T14:46:36.868733900Z"
    },
    "collapsed": false
   },
   "outputs": [
    {
     "name": "stdout",
     "output_type": "stream",
     "text": [
      "(24820, 32)\n",
      "(24820,)\n",
      "Epoch 1, loss 2.871194839477539\n",
      "Epoch 2, loss 2.5928637981414795\n",
      "Epoch 3, loss 2.487926721572876\n",
      "Epoch 4, loss 2.4048635959625244\n",
      "Epoch 5, loss 2.3340137004852295\n",
      "Epoch 6, loss 2.2672958374023438\n",
      "Epoch 7, loss 2.205758571624756\n",
      "Epoch 8, loss 2.150299549102783\n",
      "Epoch 9, loss 2.0981695652008057\n",
      "Epoch 10, loss 2.0446388721466064\n",
      "Epoch 11, loss 1.9871124029159546\n",
      "Epoch 12, loss 1.9277024269104004\n",
      "Epoch 13, loss 1.869822382926941\n",
      "Epoch 14, loss 1.816686987876892\n",
      "Epoch 15, loss 1.766892671585083\n",
      "Epoch 16, loss 1.712676763534546\n",
      "Epoch 17, loss 1.664786458015442\n",
      "Epoch 18, loss 1.6424524784088135\n",
      "Epoch 19, loss 1.61225163936615\n",
      "Epoch 20, loss 1.5794209241867065\n",
      "Epoch 21, loss 1.548707127571106\n",
      "Epoch 22, loss 1.492730975151062\n",
      "Epoch 23, loss 1.4590966701507568\n",
      "Epoch 24, loss 1.4406461715698242\n",
      "Epoch 25, loss 1.4062919616699219\n",
      "Epoch 26, loss 1.3718411922454834\n",
      "Epoch 27, loss 1.3523571491241455\n",
      "Epoch 28, loss 1.2935411930084229\n",
      "Epoch 29, loss 1.252957820892334\n",
      "Epoch 30, loss 1.1938397884368896\n",
      "Epoch 31, loss 1.1759350299835205\n",
      "Epoch 32, loss 1.1507893800735474\n",
      "Epoch 33, loss 1.1134196519851685\n",
      "Epoch 34, loss 1.133901834487915\n",
      "Epoch 35, loss 1.1894677877426147\n",
      "Epoch 36, loss 1.111700177192688\n",
      "Epoch 37, loss 1.0360573530197144\n",
      "Epoch 38, loss 1.0223469734191895\n",
      "Epoch 39, loss 1.0235533714294434\n",
      "Epoch 40, loss 0.9763928055763245\n",
      "Epoch 41, loss 0.9568650126457214\n",
      "Epoch 42, loss 0.9303286671638489\n",
      "Epoch 43, loss 0.9623308181762695\n",
      "Epoch 44, loss 0.8874595165252686\n",
      "Epoch 45, loss 0.8971187472343445\n",
      "Epoch 46, loss 0.8961188793182373\n",
      "Epoch 47, loss 0.8594366312026978\n",
      "Epoch 48, loss 0.8577850461006165\n",
      "Epoch 49, loss 0.7996376156806946\n",
      "Epoch 50, loss 0.743868350982666\n",
      "Epoch 51, loss 0.7706934809684753\n",
      "Epoch 52, loss 0.7697703838348389\n",
      "Epoch 53, loss 0.7350351810455322\n",
      "Epoch 54, loss 0.7951873540878296\n",
      "Epoch 55, loss 0.7063179612159729\n",
      "Epoch 56, loss 0.7584007382392883\n",
      "Epoch 57, loss 0.7777614593505859\n",
      "Epoch 58, loss 0.7302846312522888\n",
      "Epoch 59, loss 0.6836034059524536\n",
      "Epoch 60, loss 0.6478798985481262\n",
      "Человек в футляре На самом краю  => Человек в футляре На самом краю села на весетное и сороватости вернул он, как нам опрешел в футляр, из кого не понятно. — Нут у нис воюстворенье одну бо\n"
     ]
    }
   ],
   "source": [
    "text = \"\"\n",
    "with open(\"gift.txt\", \"r\", encoding=\"utf-8\") as file:\n",
    "    text = file.read().replace(\"\\n\", \" \")\n",
    "\n",
    "chars = sorted(list(set(text)))\n",
    "int2char = dict(enumerate(chars))\n",
    "char2int = {char: ind for ind, char in int2char.items()}\n",
    "\n",
    "idx = [char2int[c] for c in text] # получаем список индексов\n",
    "\n",
    "epochs = 60\n",
    "seq_size = 32 # размер последовательности\n",
    "hidden_size = 256\n",
    "batch_size = 300\n",
    "\n",
    "net = CharRnn(len(char2int), seq_size, hidden_size, batch_size) # создаем нейронную сеть\n",
    "lr = 1e-3\n",
    "criterion = nn.CrossEntropyLoss()\n",
    "optimizer = torch.optim.Adam(net.parameters(), lr=lr)\n",
    "\n",
    "# Подготавливаем данные \n",
    "# разделям данные на пакеты входящих и выходящих данных\n",
    "in_text = np.array(\n",
    "    [[idx[j + i] for i in range(seq_size)] for j in range(len(idx) - seq_size - 1)]\n",
    ")\n",
    "out_text = np.array([idx[j + seq_size] for j in range(len(idx) - seq_size - 1)])\n",
    "\n",
    "print(in_text.shape)\n",
    "print(out_text.shape)\n",
    "\n",
    "# TRAIN\n",
    "for e in range(0, epochs):\n",
    "    loss = 0\n",
    "    for b in range(0, in_text.shape[0] // batch_size):\n",
    "        input_idxs = ( # для каждого пакеты создаются тензоры входных и выходных данных\n",
    "            torch.LongTensor(in_text[b * batch_size : (b + 1) * batch_size, :seq_size])\n",
    "            .transpose(0, 1)\n",
    "        )\n",
    "        target_idxs = (\n",
    "            torch.LongTensor(out_text[b * batch_size : (b + 1) * batch_size])\n",
    "            .squeeze()\n",
    "        )\n",
    "\n",
    "        res = net(input_idxs)\n",
    "        loss = criterion(res, target_idxs)\n",
    "        optimizer.zero_grad()\n",
    "        loss.backward()\n",
    "        optimizer.step()\n",
    "\n",
    "    print(\"Epoch {}, loss {}\".format(e + 1, loss.item()))\n",
    "\n"
   ]
  }
 ],
 "metadata": {
  "kernelspec": {
   "display_name": "Python 3",
   "language": "python",
   "name": "python3"
  },
  "language_info": {
   "codemirror_mode": {
    "name": "ipython",
    "version": 3
   },
   "file_extension": ".py",
   "mimetype": "text/x-python",
   "name": "python",
   "nbconvert_exporter": "python",
   "pygments_lexer": "ipython3",
   "version": "3.10.2"
  }
 },
 "nbformat": 4,
 "nbformat_minor": 5
}

{
 "cells": [
  {
   "cell_type": "markdown",
   "metadata": {},
   "source": [
    "## Лабораторная №3"
   ]
  },
  {
   "cell_type": "code",
   "execution_count": 1,
   "metadata": {},
   "outputs": [],
   "source": [
    "import numpy as np\n",
    "import torch\n",
    "import torch.nn as nn\n",
    "import torch.optim as optim\n",
    "import matplotlib.pyplot as plt\n",
    "from mpl_toolkits.mplot3d import Axes3D\n",
    "from sklearn.preprocessing import MinMaxScaler\n",
    "\n",
    "device = 'cuda' if torch.cuda.is_available() else 'cpu'"
   ]
  },
  {
   "cell_type": "code",
   "execution_count": 2,
   "metadata": {},
   "outputs": [
    {
     "data": {
      "text/plain": [
       "False"
      ]
     },
     "execution_count": 2,
     "metadata": {},
     "output_type": "execute_result"
    }
   ],
   "source": [
    "torch.cuda.is_available()"
   ]
  },
  {
   "cell_type": "code",
   "execution_count": 3,
   "metadata": {},
   "outputs": [],
   "source": [
    "activation_function = nn.Tanh()\n",
    "def myfun(x):\n",
    "    return 3*np.sin(2*x-1)\n"
   ]
  },
  {
   "cell_type": "code",
   "execution_count": 4,
   "metadata": {},
   "outputs": [
    {
     "ename": "SyntaxError",
     "evalue": "invalid syntax (663704215.py, line 41)",
     "output_type": "error",
     "traceback": [
      "\u001b[1;36m  Input \u001b[1;32mIn [4]\u001b[1;36m\u001b[0m\n\u001b[1;33m    ax =\u001b[0m\n\u001b[1;37m         ^\u001b[0m\n\u001b[1;31mSyntaxError\u001b[0m\u001b[1;31m:\u001b[0m invalid syntax\n"
     ]
    }
   ],
   "source": [
    "def approx_1d_function(x_train, x_eval, units, epochs):\n",
    "    y_train = myfun(x_train)\n",
    "    x_scaler = MinMaxScaler(feature_range=(-1,1))\n",
    "    y_scaler = MinMaxScaler(feature_range=(-1,1))\n",
    "\n",
    "    x_scaled = x_scaler.fit_transform(x_train)\n",
    "    y_scaled = y_scaler.fit_transform(y_train)\n",
    "    x_eval_scaled = x_scaler.transform(x_eval)\n",
    "\n",
    "    _, resalt_eval = t\n",
    "    res_rescaled = y_scaler.inverse_transform(resalt_eval)\n",
    "\n",
    "    y_eval = myfun(x_eval)\n",
    "    return x_eval, res_rescaled, y_eval\n",
    "\n",
    "def train_model_simple(x_train, y_train, x_eval, units, epochs):\n",
    "    x_train_tensor = torch.from_numpy(x_train).float().to(device)\n",
    "    x_eval_tensor = torch.from_numpy(x_eval).float().to(device)\n",
    "    y_train_tensor = torch.from_numpy(y_train).float().to(device)\n",
    "\n",
    "    layer1 = nn.Linear(x_train.shape[1], units).to(device)\n",
    "    layer2 = nn.Linear(units, 1).to(device)\n",
    "    \n",
    "    parameters = list(layer1.parameters()) + list(layer2.parameters())\n",
    "\n",
    "    optimizer = optim.Adam(parameters)\n",
    "    for epoch in range(epochs):\n",
    "        loss_fn = nn.MSELoss(reduction='mean')\n",
    "        yhat = layer2(activation_function(layer1(x_train_tensor)))\n",
    "        loss = loss_fn(yhat, y_train_tensor) \n",
    "        loss.backward()\n",
    "        optimizer.step()\n",
    "\n",
    "        optimizer.zero_grad()\n",
    "    \n",
    "    yhat_eval = layer2(activation_function(layer1(x_eval_tensor)))\n",
    "    return yhat.detach().cpu().numpy(), yhat_eval.detach().cpu().numpy()\n",
    "\n",
    "def plot_1d_function(x_train, x_eval, predictions, labels, units, epochs):\n",
    "    fig = plt.figure(1, figsize=(18, 6))\n",
    "    ax = fig.add_subplot(1, 2, 1)\n",
    "    ax.axvspan(x_train.flatten()[0], x_train.flatten()[-1], alpha=0.15, color='limegreen')\n",
    "    plt.plot(x_eval, myfun(x_eval), '-', color='royalblue', linewidth=1.0)\n",
    "    plt.plot(x_eval, predictions, '-', label='output', color='darkorange', linewidth=2.0)\n",
    "    plt.plot(x_train, myfun(x_train), '.', color='royalblue')\n",
    "    plt.grid(which='both')\n",
    "    plt.rcParams.update({'font.size':14})\n",
    "    plt.xlabel('x')\n",
    "    plt.ylabel('y')\n",
    "    plt.title('%d neurons in hidden layer with %d epochs of training' % (units, epochs))\n",
    "    ax = fig.add_subplot(1,2,1)\n",
    "    ax.axvspan(x_train.flatten()[0], x_train.flatten()[-1], alpha=0.15, color='limegreen')\n",
    "    plt.plot()"
   ]
  }
 ],
 "metadata": {
  "kernelspec": {
   "display_name": "Python 3",
   "language": "python",
   "name": "python3"
  },
  "language_info": {
   "codemirror_mode": {
    "name": "ipython",
    "version": 3
   },
   "file_extension": ".py",
   "mimetype": "text/x-python",
   "name": "python",
   "nbconvert_exporter": "python",
   "pygments_lexer": "ipython3",
   "version": "3.10.2"
  },
  "orig_nbformat": 4
 },
 "nbformat": 4,
 "nbformat_minor": 2
}
